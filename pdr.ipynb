{
 "cells": [
  {
   "cell_type": "code",
   "execution_count": 1,
   "metadata": {},
   "outputs": [],
   "source": [
    "import dotenv\n",
    "\n",
    "dotenv.load_dotenv(override=True);"
   ]
  },
  {
   "cell_type": "markdown",
   "metadata": {},
   "source": [
    "- store for parent\n",
    "- vectorstore for children\n",
    "- embeddings for children"
   ]
  },
  {
   "cell_type": "code",
   "execution_count": 2,
   "metadata": {},
   "outputs": [
    {
     "name": "stderr",
     "output_type": "stream",
     "text": [
      "/tmp/ipykernel_35217/217374399.py:5: LangChainDeprecationWarning: The class `OpenAIEmbeddings` was deprecated in LangChain 0.0.9 and will be removed in 1.0. An updated version of the class exists in the :class:`~langchain-openai package and should be used instead. To use it run `pip install -U :class:`~langchain-openai` and import as `from :class:`~langchain_openai import OpenAIEmbeddings``.\n",
      "  embeddings = OpenAIEmbeddings(model='text-embedding-3-small')\n",
      "/tmp/ipykernel_35217/217374399.py:6: LangChainDeprecationWarning: The class `Chroma` was deprecated in LangChain 0.2.9 and will be removed in 1.0. An updated version of the class exists in the :class:`~langchain-chroma package and should be used instead. To use it run `pip install -U :class:`~langchain-chroma` and import as `from :class:`~langchain_chroma import Chroma``.\n",
      "  vectorstore = Chroma(embedding_function=embeddings, persist_directory='chroma_persist')\n"
     ]
    }
   ],
   "source": [
    "from langchain.storage import InMemoryStore, LocalFileStore\n",
    "from langchain.vectorstores import Chroma\n",
    "from langchain.embeddings import OpenAIEmbeddings\n",
    "\n",
    "embeddings = OpenAIEmbeddings(model='text-embedding-3-small')\n",
    "vectorstore = Chroma(embedding_function=embeddings, persist_directory='chroma_persist')\n",
    "# docstore = InMemoryStore()\n",
    "\n",
    "from langchain.storage._lc_store import create_kv_docstore\n",
    "fs = LocalFileStore(\"./store\")\n",
    "docstore = create_kv_docstore(fs)"
   ]
  },
  {
   "cell_type": "markdown",
   "metadata": {},
   "source": [
    "construct retriever"
   ]
  },
  {
   "cell_type": "code",
   "execution_count": 3,
   "metadata": {},
   "outputs": [],
   "source": [
    "from langchain.text_splitter import RecursiveCharacterTextSplitter\n",
    "from langchain.retrievers import ParentDocumentRetriever\n",
    "\n",
    "retriever = ParentDocumentRetriever(\n",
    "    vectorstore=vectorstore,\n",
    "    docstore=docstore,\n",
    "    child_splitter=RecursiveCharacterTextSplitter(chunk_size=100, chunk_overlap=40),\n",
    "    parent_splitter=RecursiveCharacterTextSplitter(chunk_size=2000), \n",
    ")"
   ]
  },
  {
   "cell_type": "markdown",
   "metadata": {},
   "source": [
    "load documents"
   ]
  },
  {
   "cell_type": "code",
   "execution_count": 4,
   "metadata": {},
   "outputs": [
    {
     "name": "stderr",
     "output_type": "stream",
     "text": [
      "USER_AGENT environment variable not set, consider setting it to identify your requests.\n"
     ]
    }
   ],
   "source": [
    "from typing import List\n",
    "from langchain_core.documents import Document\n",
    "from langchain_community.document_loaders import WebBaseLoader\n",
    "\n",
    "def load_using_webbaseloader(url) -> List[Document]:\n",
    "    loader = WebBaseLoader(url)\n",
    "\n",
    "    docs = loader.load()\n",
    "    \n",
    "    return docs\n",
    "\n",
    "docs = load_using_webbaseloader(\"https://zakon.rada.gov.ua/laws/show/1306-2001-%D0%BF/print\")"
   ]
  },
  {
   "cell_type": "code",
   "execution_count": 5,
   "metadata": {},
   "outputs": [],
   "source": [
    "retriever.add_documents(docs)"
   ]
  },
  {
   "cell_type": "code",
   "execution_count": null,
   "metadata": {},
   "outputs": [],
   "source": []
  },
  {
   "cell_type": "code",
   "execution_count": 58,
   "metadata": {},
   "outputs": [],
   "source": [
    "# res = retriever.invoke(\"Коли можна здійснювати обгін?\")\n",
    "# res = retriever.invoke(\"З якою швидкістю можна їхати по селу?\")"
   ]
  },
  {
   "cell_type": "markdown",
   "metadata": {},
   "source": [
    "- create chat model, prompt template\n",
    "- combine chat_model, propt template and retriever"
   ]
  },
  {
   "cell_type": "code",
   "execution_count": 5,
   "metadata": {},
   "outputs": [],
   "source": [
    "from langchain.prompts import ChatPromptTemplate\n",
    "from langchain_core.messages import SystemMessage, HumanMessage\n",
    "from langchain.chains import create_retrieval_chain\n",
    "from langchain.chains.combine_documents import create_stuff_documents_chain\n",
    "from langchain_openai import ChatOpenAI\n",
    "\n",
    "input_context_prompt = ChatPromptTemplate.from_messages([\n",
    "    ('system', \"\"\"Ти знавець правил дорожнього руху (ПДР) в Україні. Відповідай на питання беручи до уваги наступний контекст:\\n\\n{context}\"\"\"),\n",
    "    ('user', \"\"\"{input}\"\"\"),\n",
    "    ]\n",
    ")\n",
    "\n",
    "chat_model = ChatOpenAI()\n",
    "\n",
    "qa_chain = create_retrieval_chain(retriever, create_stuff_documents_chain(chat_model, input_context_prompt))"
   ]
  },
  {
   "cell_type": "code",
   "execution_count": 6,
   "metadata": {},
   "outputs": [],
   "source": [
    "res = qa_chain.invoke({'input': \"Коли можна здійснювати обгін?\"})"
   ]
  },
  {
   "cell_type": "code",
   "execution_count": 7,
   "metadata": {},
   "outputs": [
    {
     "data": {
      "text/plain": [
       "{'input': 'Коли можна здійснювати обгін?',\n",
       " 'context': [Document(metadata={'source': 'https://zakon.rada.gov.ua/laws/show/1306-2001-%D0%BF/print', 'title': 'Про Правила дорожнього руху | від 10.10.2001 № 1306 (Текст для друку)', 'description': 'База даних \"Законодавство України\" містить нормативно-правові документи українського законодавства, термінологію, анотації англійською мовою, переліки первиних актів тощо', 'language': 'uk'}, page_content=\"10.8. Якщо в місці з'їзду з дороги є смуга гальмування, водій, який має намір повернути на іншу дорогу, повинен своєчасно перестроїтися на цю смугу і знижувати швидкість тільки на ній.\\n\\nЯкщо в місці в'їзду на дорогу є смуга розгону, водій має рухатися по ній і вливатися в транспортний потік, даючи дорогу транспортним засобам, що рухаються по цій дорозі.\\n\\n10.9. Під час руху транспортного засобу заднім ходом водій не повинен створювати небезпеки чи перешкод іншим учасникам руху. Для забезпечення безпеки руху він у разі потреби повинен звернутися за допомогою до інших осіб.\\n\\n10.10. Забороняється рух транспортних засобів заднім ходом на автомагістралях, дорогах для автомобілів, залізничних переїздах, пішохідних переходах, перехрестях, мостах, шляхопроводах, естакадах, у тунелях, на в'їздах і виїздах з них, а також на ділянках доріг з обмеженою оглядовістю чи недостатньою видимістю.\\n\\nДозволяється рух заднім ходом на дорогах з одностороннім рухом за умови дотримання вимог пункту 10.9 цих Правил та неможливості під'їхати до об'єкта іншим чином.\\n\\n10.11. У разі коли траєкторії руху транспортних засобів перетинаються, а черговість проїзду не обумовлена цими Правилами, дати дорогу повинен водій, до якого транспортний засіб наближається з правого боку.\\n\\n11. РОЗТАШУВАННЯ ТРАНСПОРТНИХ ЗАСОБІВ НА ДОРОЗІ\\n\\n11.1. Кількість смуг на проїзній частині для руху нерейкових транспортних засобів визначається дорожньою розміткою або дорожніми знаками 5.16, 5.17.1, 5.17.2, а за їх відсутності - самими водіями з урахуванням ширини проїзної частини відповідного напрямку руху, габаритів транспортних засобів і безпечних інтервалів між ними.\\n\\n11.2. На дорогах, які мають дві і більше смуг для руху в одному напрямку, нерейкові транспортні засоби повинні рухатися якнайближче до правого краю проїзної частини, крім випадків, коли виконується випередження, об'їзд або перестроювання перед поворотом ліворуч чи розворотом.\\n\\n{Пункт 11.2 в редакції Постанови КМ № 111 від 11.02.2013}\"),\n",
       "  Document(metadata={'source': 'https://zakon.rada.gov.ua/laws/show/1306-2001-%D0%BF/print', 'title': 'Про Правила дорожнього руху | від 10.10.2001 № 1306 (Текст для друку)', 'description': 'База даних \"Законодавство України\" містить нормативно-правові документи українського законодавства, термінологію, анотації англійською мовою, переліки первиних актів тощо', 'language': 'uk'}, page_content='д) увімкнення проблискового маячка оранжевого кольору.\\n\\n9.2. Водій повинен подавати сигнали світловими покажчиками повороту відповідного напрямку:\\n\\nа) перед початком руху і зупинкою;\\n\\nб) перед перестроюванням, поворотом або розворотом.\\n\\n9.3. У разі відсутності або несправності світлових покажчиків повороту сигнали початку руху від правого краю проїзної частини, зупинки зліва, повороту ліворуч, розвороту або перестроювання на смугу руху ліворуч подаються лівою рукою, витягнутою вбік, або правою рукою, витягнутою вбік і зігнутою у лікті під прямим кутом угору.\\n\\nСигнали початку руху від лівого краю проїзної частини, зупинки справа, повороту праворуч, перестроювання на смугу руху праворуч подаються правою рукою, витягнутою вбік, або лівою рукою, витягнутою вбік і зігнутою у лікті під прямим кутом угору.\\n\\nУ разі відсутності або несправності сигналів гальмування такий сигнал подається лівою або правою рукою, піднятою вгору.\\n\\n9.4. Подавати сигнал покажчиками повороту або рукою належить завчасно до початку маневру (з урахуванням швидкості руху), але не менш як за 50-100 м у населених пунктах і за 150-200 м поза ними, і припиняти негайно після його закінчення (подавання сигналу рукою слід закінчити безпосередньо перед початком виконання маневру). Сигнал забороняється подавати, якщо він може бути не зрозумілим для інших учасників руху.\\n\\nПодавання попереджувального сигналу не дає водієві переваги і не звільняє його від вжиття запобіжних заходів.\\n\\n9.5. Подавати звукові сигнали у населених пунктах забороняється, крім випадків, коли без цього неможливо запобігти дорожньо-транспортній пригоді.\\n\\n9.6. Для привертання уваги водія транспортного засобу, який обганяється, можна застосовувати перемикання світла фар, а поза населеними пунктами - і звуковий сигнал.\\n\\n9.7. Забороняється користуватися дальнім світлом фар як попереджувальним сигналом в умовах, коли це може призвести до засліплення інших водіїв, у тому числі через дзеркало заднього виду.')],\n",
       " 'answer': 'Обгін можна здійснювати, якщо водій переконався, що обганяючий транспортний засіб може безпечно завершити маневр обгону, не перешкоджаючи іншим учасникам руху. Обгін дозволяється на дорогах з двонапрямковим рухом, якщо це не заборонено дорожніми знаками або розміткою, і якщо є можливість безпечно обігнати інший транспортний засіб. Водій, який обганяє, повинен враховувати вимоги ПДР і надавати перевагу транспортному засобу, який обганяється, якщо він виходить на обгін.'}"
      ]
     },
     "execution_count": 7,
     "metadata": {},
     "output_type": "execute_result"
    }
   ],
   "source": [
    "res"
   ]
  },
  {
   "cell_type": "code",
   "execution_count": 20,
   "metadata": {},
   "outputs": [
    {
     "data": {
      "text/plain": [
       "'gpt-3.5-turbo'"
      ]
     },
     "execution_count": 20,
     "metadata": {},
     "output_type": "execute_result"
    }
   ],
   "source": [
    "chat_model.model_name"
   ]
  },
  {
   "cell_type": "code",
   "execution_count": 18,
   "metadata": {},
   "outputs": [
    {
     "data": {
      "text/plain": [
       "1894"
      ]
     },
     "execution_count": 18,
     "metadata": {},
     "output_type": "execute_result"
    }
   ],
   "source": [
    "res['context'][0].page_content.__len__()"
   ]
  },
  {
   "cell_type": "code",
   "execution_count": 101,
   "metadata": {},
   "outputs": [
    {
     "name": "stdout",
     "output_type": "stream",
     "text": [
      "Обгін можна здійснювати у таких випадках:\n",
      "\n",
      "- Якщо жоден з водіїв транспортних засобів, які рухаються за вами і яким може бути створено перешкоду, не розпочав обгону;\n",
      "- Водій транспортного засобу, який рухається попереду по тій самій смузі, не подав сигналу про намір повороту ліворуч;\n",
      "- Смуга зустрічного руху, на яку ви будете виїжджати, вільна від транспортних засобів на достатній для обгону відстані;\n",
      "- Після обгону зможете, не створюючи перешкоди транспортному засобу, якого обганяєте, повернутися на займану смугу.\n",
      "\n",
      "Заборонено здійснювати обгін на перехресті, на залізничних переїздах і ближче ніж за 100 м перед ними, ближче ніж за 50 м перед пішохідним переходом у населеному пункті і 100 м поза населеним пунктом, у кінці підйому, на мостах, естакадах, шляхопроводах, крутих поворотах та інших ділянках доріг з обмеженою оглядовістю чи в умовах недостатньої видимості, у тунелях, на дорогах з двома і більше смугами для руху в одному напрямку, за колоною транспортних засобів, позаду якої рухається транспортний засіб з увімкненим проблисковим маячком.\n"
     ]
    }
   ],
   "source": [
    "print(res['answer'])"
   ]
  },
  {
   "cell_type": "code",
   "execution_count": 84,
   "metadata": {},
   "outputs": [],
   "source": [
    "res = qa_chain.invoke({'input': \"З якою швидкістю можна їхати по селу?\"})"
   ]
  },
  {
   "cell_type": "code",
   "execution_count": 93,
   "metadata": {},
   "outputs": [],
   "source": [
    "res = qa_chain.invoke({'input': \"Скільки можна їхати по селу?\"})"
   ]
  },
  {
   "cell_type": "code",
   "execution_count": 94,
   "metadata": {},
   "outputs": [
    {
     "name": "stdout",
     "output_type": "stream",
     "text": [
      "У населених пунктах, в тому числі і в селах, дозволяється рух транспортних засобів із швидкістю не більше 50 км/год (пункт 12.4 ПДР). Таким чином, у селі можна їхати не швидше, ніж 50 км/год.\n"
     ]
    }
   ],
   "source": [
    "print(res['answer'])"
   ]
  },
  {
   "cell_type": "code",
   "execution_count": null,
   "metadata": {},
   "outputs": [],
   "source": []
  },
  {
   "cell_type": "markdown",
   "metadata": {},
   "source": [
    "No RAG"
   ]
  },
  {
   "cell_type": "code",
   "execution_count": 96,
   "metadata": {},
   "outputs": [],
   "source": [
    "no_rag_prompt = ChatPromptTemplate.from_messages([\n",
    "    ('system', \"\"\"Ти знавець правил дорожнього руху (ПДР) в Україні. Відповідай на питання згідно ПДР\"\"\"),\n",
    "    ('user', \"\"\"{input}\"\"\"),\n",
    "    ]\n",
    ")\n",
    "no_rag_qa = no_rag_prompt | chat_model"
   ]
  },
  {
   "cell_type": "code",
   "execution_count": 97,
   "metadata": {},
   "outputs": [
    {
     "data": {
      "text/plain": [
       "AIMessage(content='Згідно ПДР, у населених пунктах (включаючи села) дозволено рухатися зі швидкістю до 60 км/год, якщо інше не передбачено дорожніми знаками.', additional_kwargs={'refusal': None}, response_metadata={'token_usage': {'completion_tokens': 81, 'prompt_tokens': 83, 'total_tokens': 164, 'completion_tokens_details': {'audio_tokens': None, 'reasoning_tokens': 0}, 'prompt_tokens_details': {'audio_tokens': None, 'cached_tokens': 0}}, 'model_name': 'gpt-3.5-turbo-0125', 'system_fingerprint': None, 'finish_reason': 'stop', 'logprobs': None}, id='run-9c2ddd99-0af0-472f-9299-aec0fa50d1d7-0', usage_metadata={'input_tokens': 83, 'output_tokens': 81, 'total_tokens': 164, 'input_token_details': {'cache_read': 0}, 'output_token_details': {'reasoning': 0}})"
      ]
     },
     "execution_count": 97,
     "metadata": {},
     "output_type": "execute_result"
    }
   ],
   "source": [
    "no_rag_qa.invoke(\"Скільки можна їхати по селу?\")"
   ]
  },
  {
   "cell_type": "code",
   "execution_count": 98,
   "metadata": {},
   "outputs": [
    {
     "data": {
      "text/plain": [
       "AIMessage(content='Обгін дозволяється здійснювати тільки зліва. Обгін можна здійснити лише в разі, якщо ви переконались, що вільний простір вистачить для безпечного обгону, і водій, якого ви обганяєте, не намагається виконати обгін або поворот наліво. Також важливо дотримуватись швидкісного режиму під час обгону і не порушувати інші правила дорожнього руху.', additional_kwargs={'refusal': None}, response_metadata={'token_usage': {'completion_tokens': 202, 'prompt_tokens': 86, 'total_tokens': 288, 'completion_tokens_details': {'audio_tokens': None, 'reasoning_tokens': 0}, 'prompt_tokens_details': {'audio_tokens': None, 'cached_tokens': 0}}, 'model_name': 'gpt-3.5-turbo-0125', 'system_fingerprint': None, 'finish_reason': 'stop', 'logprobs': None}, id='run-9de4b829-6a10-4972-9ab4-107071b23b56-0', usage_metadata={'input_tokens': 86, 'output_tokens': 202, 'total_tokens': 288, 'input_token_details': {'cache_read': 0}, 'output_token_details': {'reasoning': 0}})"
      ]
     },
     "execution_count": 98,
     "metadata": {},
     "output_type": "execute_result"
    }
   ],
   "source": [
    "no_rag_qa.invoke(\"Коли можна здійснювати обгін?\")"
   ]
  },
  {
   "cell_type": "code",
   "execution_count": null,
   "metadata": {},
   "outputs": [],
   "source": []
  }
 ],
 "metadata": {
  "kernelspec": {
   "display_name": "basa",
   "language": "python",
   "name": "python3"
  },
  "language_info": {
   "codemirror_mode": {
    "name": "ipython",
    "version": 3
   },
   "file_extension": ".py",
   "mimetype": "text/x-python",
   "name": "python",
   "nbconvert_exporter": "python",
   "pygments_lexer": "ipython3",
   "version": "3.10.13"
  }
 },
 "nbformat": 4,
 "nbformat_minor": 2
}
