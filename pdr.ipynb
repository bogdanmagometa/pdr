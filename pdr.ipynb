{
 "cells": [
  {
   "cell_type": "code",
   "execution_count": 6,
   "metadata": {},
   "outputs": [],
   "source": [
    "import dotenv\n",
    "\n",
    "dotenv.load_dotenv(override=True);"
   ]
  },
  {
   "cell_type": "markdown",
   "metadata": {},
   "source": [
    "- store for parent\n",
    "- vectorstore for children\n",
    "- embeddings for children"
   ]
  },
  {
   "cell_type": "code",
   "execution_count": 7,
   "metadata": {},
   "outputs": [
    {
     "name": "stderr",
     "output_type": "stream",
     "text": [
      "/tmp/ipykernel_9959/107875430.py:6: LangChainDeprecationWarning: The class `Chroma` was deprecated in LangChain 0.2.9 and will be removed in 1.0. An updated version of the class exists in the :class:`~langchain-chroma package and should be used instead. To use it run `pip install -U :class:`~langchain-chroma` and import as `from :class:`~langchain_chroma import Chroma``.\n",
      "  vectorstore = Chroma(embedding_function=embeddings)\n"
     ]
    }
   ],
   "source": [
    "from langchain.storage import InMemoryStore\n",
    "from langchain.vectorstores import Chroma\n",
    "from langchain.embeddings import OpenAIEmbeddings\n",
    "\n",
    "embeddings = OpenAIEmbeddings(model='text-embedding-3-small')\n",
    "vectorstore = Chroma(embedding_function=embeddings)\n",
    "docstore = InMemoryStore()"
   ]
  },
  {
   "cell_type": "markdown",
   "metadata": {},
   "source": [
    "construct retriever"
   ]
  },
  {
   "cell_type": "code",
   "execution_count": 8,
   "metadata": {},
   "outputs": [],
   "source": [
    "from langchain.text_splitter import RecursiveCharacterTextSplitter\n",
    "from langchain.retrievers import ParentDocumentRetriever\n",
    "\n",
    "retriever = ParentDocumentRetriever(\n",
    "    vectorstore=vectorstore,\n",
    "    docstore=docstore,\n",
    "    child_splitter=RecursiveCharacterTextSplitter(chunk_size=100, chunk_overlap=40),\n",
    "    parent_splitter=RecursiveCharacterTextSplitter(chunk_size=2000), \n",
    ")"
   ]
  },
  {
   "cell_type": "markdown",
   "metadata": {},
   "source": [
    "load documents"
   ]
  },
  {
   "cell_type": "code",
   "execution_count": 9,
   "metadata": {},
   "outputs": [],
   "source": [
    "from typing import List\n",
    "from langchain_core.documents import Document\n",
    "from langchain_community.document_loaders import WebBaseLoader\n",
    "\n",
    "def load_using_webbaseloader(url) -> List[Document]:\n",
    "    loader = WebBaseLoader(url)\n",
    "\n",
    "    docs = loader.load()\n",
    "    \n",
    "    return docs\n",
    "\n",
    "docs = load_using_webbaseloader(\"https://zakon.rada.gov.ua/laws/show/1306-2001-%D0%BF/print\")"
   ]
  },
  {
   "cell_type": "code",
   "execution_count": 10,
   "metadata": {},
   "outputs": [],
   "source": [
    "retriever.add_documents(docs)"
   ]
  },
  {
   "cell_type": "code",
   "execution_count": 58,
   "metadata": {},
   "outputs": [],
   "source": [
    "# res = retriever.invoke(\"Коли можна здійснювати обгін?\")\n",
    "# res = retriever.invoke(\"З якою швидкістю можна їхати по селу?\")"
   ]
  },
  {
   "cell_type": "markdown",
   "metadata": {},
   "source": [
    "- create chat model, prompt template\n",
    "- combine chat_model, propt template and retriever"
   ]
  },
  {
   "cell_type": "code",
   "execution_count": 11,
   "metadata": {},
   "outputs": [],
   "source": [
    "from langchain.prompts import ChatPromptTemplate\n",
    "from langchain_core.messages import SystemMessage, HumanMessage\n",
    "from langchain.chains import create_retrieval_chain\n",
    "from langchain.chains.combine_documents import create_stuff_documents_chain\n",
    "from langchain_openai import ChatOpenAI\n",
    "\n",
    "input_context_prompt = ChatPromptTemplate.from_messages([\n",
    "    ('system', \"\"\"Ти знавець правил дорожнього руху (ПДР) в Україні. Відповідай на питання беручи до уваги наступний контекст:\\n\\n{context}\"\"\"),\n",
    "    ('user', \"\"\"{input}\"\"\"),\n",
    "    ]\n",
    ")\n",
    "\n",
    "chat_model = ChatOpenAI()\n",
    "\n",
    "qa_chain = create_retrieval_chain(retriever, create_stuff_documents_chain(chat_model, input_context_prompt))"
   ]
  },
  {
   "cell_type": "code",
   "execution_count": 12,
   "metadata": {},
   "outputs": [],
   "source": [
    "res = qa_chain.invoke({'input': \"Коли можна здійснювати обгін?\"})"
   ]
  },
  {
   "cell_type": "code",
   "execution_count": 20,
   "metadata": {},
   "outputs": [
    {
     "data": {
      "text/plain": [
       "'gpt-3.5-turbo'"
      ]
     },
     "execution_count": 20,
     "metadata": {},
     "output_type": "execute_result"
    }
   ],
   "source": [
    "chat_model.model_name"
   ]
  },
  {
   "cell_type": "code",
   "execution_count": 18,
   "metadata": {},
   "outputs": [
    {
     "data": {
      "text/plain": [
       "1894"
      ]
     },
     "execution_count": 18,
     "metadata": {},
     "output_type": "execute_result"
    }
   ],
   "source": [
    "res['context'][0].page_content.__len__()"
   ]
  },
  {
   "cell_type": "code",
   "execution_count": 101,
   "metadata": {},
   "outputs": [
    {
     "name": "stdout",
     "output_type": "stream",
     "text": [
      "Обгін можна здійснювати у таких випадках:\n",
      "\n",
      "- Якщо жоден з водіїв транспортних засобів, які рухаються за вами і яким може бути створено перешкоду, не розпочав обгону;\n",
      "- Водій транспортного засобу, який рухається попереду по тій самій смузі, не подав сигналу про намір повороту ліворуч;\n",
      "- Смуга зустрічного руху, на яку ви будете виїжджати, вільна від транспортних засобів на достатній для обгону відстані;\n",
      "- Після обгону зможете, не створюючи перешкоди транспортному засобу, якого обганяєте, повернутися на займану смугу.\n",
      "\n",
      "Заборонено здійснювати обгін на перехресті, на залізничних переїздах і ближче ніж за 100 м перед ними, ближче ніж за 50 м перед пішохідним переходом у населеному пункті і 100 м поза населеним пунктом, у кінці підйому, на мостах, естакадах, шляхопроводах, крутих поворотах та інших ділянках доріг з обмеженою оглядовістю чи в умовах недостатньої видимості, у тунелях, на дорогах з двома і більше смугами для руху в одному напрямку, за колоною транспортних засобів, позаду якої рухається транспортний засіб з увімкненим проблисковим маячком.\n"
     ]
    }
   ],
   "source": [
    "print(res['answer'])"
   ]
  },
  {
   "cell_type": "code",
   "execution_count": 84,
   "metadata": {},
   "outputs": [],
   "source": [
    "res = qa_chain.invoke({'input': \"З якою швидкістю можна їхати по селу?\"})"
   ]
  },
  {
   "cell_type": "code",
   "execution_count": 93,
   "metadata": {},
   "outputs": [],
   "source": [
    "res = qa_chain.invoke({'input': \"Скільки можна їхати по селу?\"})"
   ]
  },
  {
   "cell_type": "code",
   "execution_count": 94,
   "metadata": {},
   "outputs": [
    {
     "name": "stdout",
     "output_type": "stream",
     "text": [
      "У населених пунктах, в тому числі і в селах, дозволяється рух транспортних засобів із швидкістю не більше 50 км/год (пункт 12.4 ПДР). Таким чином, у селі можна їхати не швидше, ніж 50 км/год.\n"
     ]
    }
   ],
   "source": [
    "print(res['answer'])"
   ]
  },
  {
   "cell_type": "code",
   "execution_count": null,
   "metadata": {},
   "outputs": [],
   "source": []
  },
  {
   "cell_type": "markdown",
   "metadata": {},
   "source": [
    "No RAG"
   ]
  },
  {
   "cell_type": "code",
   "execution_count": 96,
   "metadata": {},
   "outputs": [],
   "source": [
    "no_rag_prompt = ChatPromptTemplate.from_messages([\n",
    "    ('system', \"\"\"Ти знавець правил дорожнього руху (ПДР) в Україні. Відповідай на питання згідно ПДР\"\"\"),\n",
    "    ('user', \"\"\"{input}\"\"\"),\n",
    "    ]\n",
    ")\n",
    "no_rag_qa = no_rag_prompt | chat_model"
   ]
  },
  {
   "cell_type": "code",
   "execution_count": 97,
   "metadata": {},
   "outputs": [
    {
     "data": {
      "text/plain": [
       "AIMessage(content='Згідно ПДР, у населених пунктах (включаючи села) дозволено рухатися зі швидкістю до 60 км/год, якщо інше не передбачено дорожніми знаками.', additional_kwargs={'refusal': None}, response_metadata={'token_usage': {'completion_tokens': 81, 'prompt_tokens': 83, 'total_tokens': 164, 'completion_tokens_details': {'audio_tokens': None, 'reasoning_tokens': 0}, 'prompt_tokens_details': {'audio_tokens': None, 'cached_tokens': 0}}, 'model_name': 'gpt-3.5-turbo-0125', 'system_fingerprint': None, 'finish_reason': 'stop', 'logprobs': None}, id='run-9c2ddd99-0af0-472f-9299-aec0fa50d1d7-0', usage_metadata={'input_tokens': 83, 'output_tokens': 81, 'total_tokens': 164, 'input_token_details': {'cache_read': 0}, 'output_token_details': {'reasoning': 0}})"
      ]
     },
     "execution_count": 97,
     "metadata": {},
     "output_type": "execute_result"
    }
   ],
   "source": [
    "no_rag_qa.invoke(\"Скільки можна їхати по селу?\")"
   ]
  },
  {
   "cell_type": "code",
   "execution_count": 98,
   "metadata": {},
   "outputs": [
    {
     "data": {
      "text/plain": [
       "AIMessage(content='Обгін дозволяється здійснювати тільки зліва. Обгін можна здійснити лише в разі, якщо ви переконались, що вільний простір вистачить для безпечного обгону, і водій, якого ви обганяєте, не намагається виконати обгін або поворот наліво. Також важливо дотримуватись швидкісного режиму під час обгону і не порушувати інші правила дорожнього руху.', additional_kwargs={'refusal': None}, response_metadata={'token_usage': {'completion_tokens': 202, 'prompt_tokens': 86, 'total_tokens': 288, 'completion_tokens_details': {'audio_tokens': None, 'reasoning_tokens': 0}, 'prompt_tokens_details': {'audio_tokens': None, 'cached_tokens': 0}}, 'model_name': 'gpt-3.5-turbo-0125', 'system_fingerprint': None, 'finish_reason': 'stop', 'logprobs': None}, id='run-9de4b829-6a10-4972-9ab4-107071b23b56-0', usage_metadata={'input_tokens': 86, 'output_tokens': 202, 'total_tokens': 288, 'input_token_details': {'cache_read': 0}, 'output_token_details': {'reasoning': 0}})"
      ]
     },
     "execution_count": 98,
     "metadata": {},
     "output_type": "execute_result"
    }
   ],
   "source": [
    "no_rag_qa.invoke(\"Коли можна здійснювати обгін?\")"
   ]
  },
  {
   "cell_type": "code",
   "execution_count": null,
   "metadata": {},
   "outputs": [],
   "source": []
  }
 ],
 "metadata": {
  "kernelspec": {
   "display_name": "basa",
   "language": "python",
   "name": "python3"
  },
  "language_info": {
   "codemirror_mode": {
    "name": "ipython",
    "version": 3
   },
   "file_extension": ".py",
   "mimetype": "text/x-python",
   "name": "python",
   "nbconvert_exporter": "python",
   "pygments_lexer": "ipython3",
   "version": "3.10.13"
  }
 },
 "nbformat": 4,
 "nbformat_minor": 2
}
